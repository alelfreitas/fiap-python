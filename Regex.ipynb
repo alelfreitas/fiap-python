{
 "cells": [
  {
   "cell_type": "markdown",
   "metadata": {},
   "source": [
    "# Regex"
   ]
  },
  {
   "cell_type": "code",
   "execution_count": 1,
   "metadata": {},
   "outputs": [],
   "source": [
    "import re"
   ]
  },
  {
   "cell_type": "code",
   "execution_count": 2,
   "metadata": {},
   "outputs": [],
   "source": [
    "lista_padroes = [\"dados\", \"doidos\"]"
   ]
  },
  {
   "cell_type": "code",
   "execution_count": 5,
   "metadata": {},
   "outputs": [],
   "source": [
    "texto = \"Os dados do texto estão doidos\""
   ]
  },
  {
   "cell_type": "code",
   "execution_count": 6,
   "metadata": {},
   "outputs": [
    {
     "name": "stdout",
     "output_type": "stream",
     "text": [
      "Padrão encontrado dados\n",
      "Padrão encontrado doidos\n"
     ]
    }
   ],
   "source": [
    "for padrao_um in lista_padroes:\n",
    "    if re.search(padrao_um, texto):\n",
    "        print(\"Padrão encontrado %s\" %padrao)\n",
    "    else:\n",
    "        print(\"Padrão não encontrado %s\" %padrao)"
   ]
  },
  {
   "cell_type": "markdown",
   "metadata": {},
   "source": [
    "## padroes 2"
   ]
  },
  {
   "cell_type": "code",
   "execution_count": 7,
   "metadata": {},
   "outputs": [
    {
     "name": "stdout",
     "output_type": "stream",
     "text": [
      "padrao ['sd', 'sd', 's', 's', 'sddd', 'sddd', 'sddd', 'sd', 's', 's', 's', 's', 's', 's', 'sdddd']\n",
      "padrao ['sd', 'sd', 'sddd', 'sddd', 'sddd', 'sd', 'sdddd']\n",
      "padrao ['sd', 'sd', 's', 's', 'sd', 'sd', 'sd', 'sd', 's', 's', 's', 's', 's', 's', 'sd']\n",
      "padrao ['sddd', 'sddd', 'sddd', 'sddd']\n",
      "padrao ['sddd', 'sddd', 'sddd', 'sddd']\n",
      "padrao ['s', 'd', 's', 'd', 's', 's', 's', 'd', 'd', 'd', 's', 'd', 'd', 'd', 's', 'd', 'd', 'd', 'd', 's', 'd', 's', 'd', 's', 's', 's', 's', 's', 's', 'd', 'd', 'd', 'd']\n",
      "padrao ['sdsd', 'sssddd', 'sdddsddd', 'sds', 'sssss', 'sdddd']\n"
     ]
    }
   ],
   "source": [
    "padroes = [\"sd*\", \"sd+\", \"sd?\", \"sd{3}\", \"sd{2,3}\", \"[sd]\", \"s[sd]+\"]\n",
    "frase_teste = \"sdsd..sssddd...sdddsddd...dsds...dsssss...sdddd\" \n",
    "for padrao in padroes:\n",
    "    print(\"padrao \" + str(re.findall(padrao, frase_teste)))"
   ]
  },
  {
   "cell_type": "markdown",
   "metadata": {},
   "source": [
    "## Matching com metacaracteres"
   ]
  },
  {
   "cell_type": "code",
   "execution_count": 8,
   "metadata": {},
   "outputs": [
    {
     "data": {
      "text/plain": [
       "['Não',\n",
       " 'havia',\n",
       " 'sentido',\n",
       " 'Aqui',\n",
       " 'que',\n",
       " 'conversaram',\n",
       " 'sobre',\n",
       " 'o',\n",
       " 'tal',\n",
       " 'assunto',\n",
       " 'era',\n",
       " 'importante',\n",
       " 'Imagino',\n",
       " 'que',\n",
       " 'sim',\n",
       " 'nem',\n",
       " 'todos',\n",
       " 'sabiam']"
      ]
     },
     "execution_count": 8,
     "metadata": {},
     "output_type": "execute_result"
    }
   ],
   "source": [
    "frase = \"Não havia sentido! Aqui que conversaram, sobre o tal assunto, era importante? Imagino que sim; nem todos sabiam.\"\n",
    "padrao_dois = \"[^!.?,; ]+\"\n",
    "re.findall(padrao_dois, frase)"
   ]
  },
  {
   "cell_type": "code",
   "execution_count": 14,
   "metadata": {},
   "outputs": [
    {
     "name": "stdout",
     "output_type": "stream",
     "text": [
      "Analisando padrao [a-z]+['ntem', 'houve', 'algum', 'problema', 'odos', 'vieram', 'resolver', 'as', 'nem', 'todos', 'foram', 'capazes']\n",
      "Analisando padrao [A-Z]+['O', 'T', 'M']\n",
      "Analisando padrao [A-zA-Z]+['Ontem', 'houve', 'algum', 'problema', 'Todos', 'vieram', 'resolver', 'Mas', 'nem', 'todos', 'foram', 'capazes']\n",
      "Analisando padrao [A-Z][a-z]+['Ontem', 'Todos', 'Mas']\n"
     ]
    }
   ],
   "source": [
    "padroes_dois = [\"[a-z]+\", \"[A-Z]+\", \"[A-zA-Z]+\", \"[A-Z][a-z]+\"] \n",
    "frase_teste = \"Ontem houve algum problema. Todos vieram resolver. Mas nem todos foram capazes.\"\n",
    "for padrao in padroes_dois:\n",
    "    print(\"Analisando padrao \" + padrao + \"\" + str(re.findall(padrao, frase_teste)))"
   ]
  },
  {
   "cell_type": "markdown",
   "metadata": {},
   "source": [
    "# Desafio de sentimentos"
   ]
  },
  {
   "cell_type": "markdown",
   "metadata": {},
   "source": [
    "CRIE UM ESTIMADOR DE SENTIMENTOS BASEADO EM CONJUNTO DE PALAVRAS POSITIVAS E NEGATIVAS PARA AS FRASES ABAIXO. UTILIZE REGEX PARA VALIDAR SUA PRESENÇA.\n",
    "1. “O FILME FOI ÓTIMO, ADOREI MUITO.”\n",
    "2. “NÃO GOSTEI, MUITO CONFUSO E OS ATORES ESTAVAM RUINS.”\n",
    "3. “FOI EXCELENTE, MAS NO COMEÇO NÃO ACHEI LEGAL.” \n",
    "4. “PODERIA SER MELHOR.”\n",
    "\n",
    "HINT: para cada palavra positiva some 1, para cada palavra negativa subtraia 1."
   ]
  },
  {
   "cell_type": "code",
   "execution_count": 24,
   "metadata": {},
   "outputs": [
    {
     "name": "stdout",
     "output_type": "stream",
     "text": [
      "não - NÃO GOSTEI, MUITO CONFUSO E OS ATORES ESTAVAM RUINS.\n",
      "não - FOI EXCELENTE, MAS NO COMEÇO NÃO ACHEI LEGAL.\n",
      "confuso - NÃO GOSTEI, MUITO CONFUSO E OS ATORES ESTAVAM RUINS.\n",
      "ruins - NÃO GOSTEI, MUITO CONFUSO E OS ATORES ESTAVAM RUINS.\n",
      "\n",
      "gostei - NÃO GOSTEI, MUITO CONFUSO E OS ATORES ESTAVAM RUINS.\n",
      "adorei - O FILME FOI ÓTIMO, ADOREI MUITO.\n",
      "excelente - FOI EXCELENTE, MAS NO COMEÇO NÃO ACHEI LEGAL.\n",
      "legal - FOI EXCELENTE, MAS NO COMEÇO NÃO ACHEI LEGAL.\n",
      "ótimo - O FILME FOI ÓTIMO, ADOREI MUITO.\n"
     ]
    }
   ],
   "source": [
    "padrao_negativo = [\"péssimo\", \"não\", \"ruim\", \"confuso\", \"ruins\"]\n",
    "padrao_positivo = [\"gostei\", \"adorei\", \"excelente\", \"legal\", \"ótimo\"]\n",
    "\n",
    "frases = [\"O FILME FOI ÓTIMO, ADOREI MUITO.\",\"NÃO GOSTEI, MUITO CONFUSO E OS ATORES ESTAVAM RUINS.\",\"FOI EXCELENTE, MAS NO COMEÇO NÃO ACHEI LEGAL.\",\"PODERIA SER MELHOR.\"]\n",
    "\n",
    "for padrao in padrao_negativo:\n",
    "    for frase in frases:\n",
    "        if re.search(padrao, frase.lower()):\n",
    "            print (padrao + \" - \" + frase)\n",
    "            \n",
    "print(\"\")\n",
    "            \n",
    "for padrao in padrao_positivo:\n",
    "    for frase in frases:\n",
    "        if re.search(padrao, frase.lower()):\n",
    "            print (padrao + \" - \" + frase)"
   ]
  },
  {
   "cell_type": "code",
   "execution_count": null,
   "metadata": {},
   "outputs": [],
   "source": []
  }
 ],
 "metadata": {
  "kernelspec": {
   "display_name": "Python 3",
   "language": "python",
   "name": "python3"
  },
  "language_info": {
   "codemirror_mode": {
    "name": "ipython",
    "version": 3
   },
   "file_extension": ".py",
   "mimetype": "text/x-python",
   "name": "python",
   "nbconvert_exporter": "python",
   "pygments_lexer": "ipython3",
   "version": "3.6.4"
  }
 },
 "nbformat": 4,
 "nbformat_minor": 2
}
