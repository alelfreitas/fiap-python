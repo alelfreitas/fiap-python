{
 "cells": [
  {
   "cell_type": "code",
   "execution_count": 7,
   "metadata": {},
   "outputs": [],
   "source": [
    "class Linha(object):\n",
    "    \n",
    "    \n",
    "    \n",
    "    def __init__(self,ponto_um_x,ponto_um_y,ponto_dois_x,ponto_dois_y):\n",
    "        self.ponto_um_x = ponto_um_x\n",
    "        self.ponto_dois_x = ponto_dois_x\n",
    "        self.ponto_um_y = ponto_um_y\n",
    "        self.ponto_dois_y = ponto_dois_y\n",
    "    \n",
    "    def __len__(self): \n",
    "        distancia = (((self.ponto_dois_x - self.ponto_um_x)**2+(self.ponto_dois_y-self.ponto_um_y)**2)**(0.5))\n",
    "        inclinacao = (((self.ponto_dois_y-self.ponto_um_y)/(self.ponto_dois_x - self.ponto_um_x)))\n",
    "        return distancia\n",
    "    \n",
    "    "
   ]
  },
  {
   "cell_type": "code",
   "execution_count": 8,
   "metadata": {},
   "outputs": [
    {
     "ename": "TypeError",
     "evalue": "'float' object cannot be interpreted as an integer",
     "output_type": "error",
     "traceback": [
      "\u001b[0;31m---------------------------------------------------------------------------\u001b[0m",
      "\u001b[0;31mTypeError\u001b[0m                                 Traceback (most recent call last)",
      "\u001b[0;32m<ipython-input-8-07d8f9f79424>\u001b[0m in \u001b[0;36m<module>\u001b[0;34m()\u001b[0m\n\u001b[1;32m      1\u001b[0m \u001b[0mlinha1\u001b[0m \u001b[0;34m=\u001b[0m \u001b[0mLinha\u001b[0m\u001b[0;34m(\u001b[0m\u001b[0;36m2\u001b[0m\u001b[0;34m,\u001b[0m\u001b[0;36m3\u001b[0m\u001b[0;34m,\u001b[0m\u001b[0;36m4\u001b[0m\u001b[0;34m,\u001b[0m\u001b[0;36m5\u001b[0m\u001b[0;34m)\u001b[0m\u001b[0;34m\u001b[0m\u001b[0m\n\u001b[0;32m----> 2\u001b[0;31m \u001b[0mlen\u001b[0m\u001b[0;34m(\u001b[0m\u001b[0mlinha1\u001b[0m\u001b[0;34m)\u001b[0m\u001b[0;34m[\u001b[0m\u001b[0;36m0\u001b[0m\u001b[0;34m]\u001b[0m\u001b[0;34m\u001b[0m\u001b[0m\n\u001b[0m",
      "\u001b[0;31mTypeError\u001b[0m: 'float' object cannot be interpreted as an integer"
     ]
    }
   ],
   "source": [
    "linha1 = Linha(2,3,4,5)\n",
    "len(linha1)[0]"
   ]
  },
  {
   "cell_type": "markdown",
   "metadata": {},
   "source": [
    "# Challenge 3"
   ]
  },
  {
   "cell_type": "code",
   "execution_count": 9,
   "metadata": {},
   "outputs": [],
   "source": [
    "import functools"
   ]
  },
  {
   "cell_type": "code",
   "execution_count": 28,
   "metadata": {},
   "outputs": [],
   "source": [
    "class Corpus(object):\n",
    "    def __init__(self,lista_texto):\n",
    "        self.lista_texto=lista_texto\n",
    "        \n",
    "    def inserir_texto(self,texto):\n",
    "        self.lista_texto.append(texto)\n",
    "        \n",
    "    def get_texto(self):\n",
    "        return self.lista_texto\n",
    "    \n",
    "    def set_texto(self,texto):\n",
    "        self.lista_texto = texto\n",
    "    \n",
    "    def __str__(self):\n",
    "        count = lambda x : len(x.split(\" \"))\n",
    "        lista_palavras = list(map(count, self.lista_texto))\n",
    "        maior_num_palavras = functools.reduce(lambda x, y: x if x > y else y, lista_palavras)\n",
    "        ret = \"Textos> %s\\nMaior no. palavras: %s\"%(len(self.lista_texto),maior_num_palavras)\n",
    "        return ret\n",
    "    \n",
    "    def __len__(self):\n",
    "        return len(self.lista_texto)"
   ]
  },
  {
   "cell_type": "code",
   "execution_count": 11,
   "metadata": {},
   "outputs": [],
   "source": [
    "lista = [\"aa bbb cc ddd\", \"aaa sssss eee\"]"
   ]
  },
  {
   "cell_type": "code",
   "execution_count": 12,
   "metadata": {},
   "outputs": [],
   "source": [
    "corpus = Corpus(lista)"
   ]
  },
  {
   "cell_type": "code",
   "execution_count": 13,
   "metadata": {},
   "outputs": [
    {
     "name": "stdout",
     "output_type": "stream",
     "text": [
      "Textos> 2\n",
      "Maior no. palavras: 4\n"
     ]
    }
   ],
   "source": [
    "print(corpus)"
   ]
  },
  {
   "cell_type": "markdown",
   "metadata": {},
   "source": [
    "# Challenge 4"
   ]
  },
  {
   "cell_type": "code",
   "execution_count": 34,
   "metadata": {},
   "outputs": [],
   "source": [
    "class CorpusEnhanced(Corpus):\n",
    "    \n",
    "    def __init__(self,lista_texto):\n",
    "        Corpus.__init__(self,lista_texto)\n",
    "        \n",
    "    def converter_minusculo(self):\n",
    "        min_item = lambda x: x.lower()\n",
    "        lista_texto = self.get_texto()\n",
    "        Corpus.set_texto(self,list(map(min_item, lista_texto)))\n",
    "        \n",
    "    def mostrar_texto(self):\n",
    "        for item in Corpus.get_texto(self):\n",
    "            print(item)\n",
    "        "
   ]
  },
  {
   "cell_type": "code",
   "execution_count": 35,
   "metadata": {},
   "outputs": [],
   "source": [
    "lista = [\"Copa do mundo é coacoa as das\"]"
   ]
  },
  {
   "cell_type": "code",
   "execution_count": 36,
   "metadata": {},
   "outputs": [],
   "source": [
    "corpus2 = CorpusEnhanced(lista)"
   ]
  },
  {
   "cell_type": "code",
   "execution_count": 38,
   "metadata": {},
   "outputs": [],
   "source": [
    "corpus2.converter_minusculo()"
   ]
  },
  {
   "cell_type": "code",
   "execution_count": 39,
   "metadata": {},
   "outputs": [
    {
     "name": "stdout",
     "output_type": "stream",
     "text": [
      "copa do mundo é coacoa as das\n"
     ]
    }
   ],
   "source": [
    "corpus2.mostrar_texto()"
   ]
  },
  {
   "cell_type": "code",
   "execution_count": null,
   "metadata": {},
   "outputs": [],
   "source": []
  }
 ],
 "metadata": {
  "kernelspec": {
   "display_name": "Python 3",
   "language": "python",
   "name": "python3"
  },
  "language_info": {
   "codemirror_mode": {
    "name": "ipython",
    "version": 3
   },
   "file_extension": ".py",
   "mimetype": "text/x-python",
   "name": "python",
   "nbconvert_exporter": "python",
   "pygments_lexer": "ipython3",
   "version": "3.6.4"
  }
 },
 "nbformat": 4,
 "nbformat_minor": 2
}
